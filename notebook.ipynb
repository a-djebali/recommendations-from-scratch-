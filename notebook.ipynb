{
 "cells": [
  {
   "cell_type": "markdown",
   "metadata": {},
   "source": [
    "# Table of Contents\n",
    "* [1. Introduction](#1.-Introduction)\n",
    "\t* [1.1 What is it?](#1.1-What-is-it?)\n",
    "\t* [1.2 Why recommender systems](#1.2-Why-recommender-systems)\n",
    "\t* [1.3 Big data driving the recommender systems](#1.3-Big-data-driving-the-recommender-systems)\n",
    "\t* [1.4 Types](#1.4-Types)\n",
    "\t\t* [1.4.1 Collaborative filtering recommender systems**](#1.4.1-Collaborative-filtering-recommender-systems**)\n",
    "\t\t* [1.4.2 Content-based recommender systems **](#1.4.2-Content-based-recommender-systems-**)\n",
    "\t\t* [1.4.3 Hybrid recommender systems **](#1.4.3-Hybrid-recommender-systems-**)\n",
    "\t\t* [1.4.4 Context-aware recommender systems **](#1.4.4-Context-aware-recommender-systems-**)\n",
    "* [2. Simple-Recommendation-Engine)](#2.-Simple-Recommendation-Engine%29)\n",
    "* [3. Recommendation Engines)](#3.-Recommendation-Engines%29)\n",
    "* [4. Data Mining & Recommendation Engines)](#4.-Data-Mining-&-Recommendation-Engines%29)\n",
    "* [5. Collaborative Filtering Recommendation Engines)](#5.-Collaborative-Filtering-Recommendation-Engines%29)\n",
    "* [6. Personalized Recommendation Engines)](#6.-Personalized-Recommendation-Engines%29)\n",
    "* [7. Real-Time Recommendation Engines)](#7.-Real-Time-Recommendation-Engines%29)\n",
    "* [8. Scalable Recommendation Engines)](#8.-Scalable-Recommendation-Engines%29)\n"
   ]
  },
  {
   "cell_type": "markdown",
   "metadata": {},
   "source": [
    "# 1. Introduction"
   ]
  },
  {
   "cell_type": "markdown",
   "metadata": {},
   "source": [
    "## 1.1 What is it?"
   ]
  },
  {
   "cell_type": "markdown",
   "metadata": {},
   "source": [
    "* Recommendation engines are powerful tools and techniques to analyze huge volumes of data to provide relevant suggestions based on data mining approaches, taking into consideration the available digital footprint of the user, such as:\n",
    "\n",
    "    * User behaviors, \n",
    "    * User-demographic information, \n",
    "    * Transaction details, \n",
    "    * Interaction logs, and information about a product, such as:\n",
    "    * Specifications, \n",
    "    * feedback from users, \n",
    "    * comparison with other products, and so on\n",
    "\n",
    "\n",
    "* In a nutshell and technical terms, a recommendation engine problem is to develop a math model or objective function that can predict how much a user will like an item.  \n",
    "\n",
    "    * _If U = {users}, I = {items} then F = Objective function and measures the usefulness of item I to user U, given by:_<br />\n",
    "    * _**F:UXI -> R**_<br />\n",
    "    * _Where R = {recommended items}_<br />\n",
    "    * _For each user u, we want to choose the item i that maximizes the objective function:_<br />\n",
    "![](imgs/1.png)\n",
    "\n",
    "\n",
    "* Companies are employing different recommendation strategies and that depends what kind of data they are tracking. So here is how they are using them:\n",
    "\n",
    "![](https://www.packtpub.com/graphics/9781785884856/graphics/image_01_003.jpg)"
   ]
  },
  {
   "cell_type": "markdown",
   "metadata": {},
   "source": [
    "## 1.2 Why recommender systems"
   ]
  },
  {
   "cell_type": "markdown",
   "metadata": {},
   "source": [
    "Given the complexity and challenges in building recommendation engines, a considerable amount of thought, skill, investment, and technology goes into building recommender systems. Are they worth such an investment? Let us look at some facts:\n",
    "* 2/3 of movies watched by Netflix customers are recommended movies\n",
    "* 38% of click-through rates on Google News are recommended links\n",
    "* 35% of sales at Amazon arise from recommended products\n",
    "* ChoiceStream claims that 28% of people would like to buy more music, if they find what they like"
   ]
  },
  {
   "cell_type": "markdown",
   "metadata": {},
   "source": [
    "## 1.3 Big data driving the recommender systems"
   ]
  },
  {
   "cell_type": "markdown",
   "metadata": {},
   "source": [
    "Without a doubt, big data is the driving force behind recommender systems. A good recommendation engine should be reliable, scalable, highly available, and be able to provide personalized recommendations, in real time, to the large user base it contains.\n",
    "\n",
    "So a typical recommendation system cannot do its job without sufficient data and big data supplies plenty of user data such as past purchases, browsing history, and feedback for the Recommendation systems to provide relevant and effective recommendations. In a nutshell, even the most advanced recommender systems cannot be effective without big data.\n",
    "\n",
    "The role of big data and improvements in technology, both on the software and hardware front, goes beyond just supplying massive data. It also provides meaningful, actionable data fast, and provides the necessary setup to quickly process the data in real time."
   ]
  },
  {
   "cell_type": "markdown",
   "metadata": {},
   "source": [
    "## 1.4 Types"
   ]
  },
  {
   "cell_type": "markdown",
   "metadata": {},
   "source": [
    "### 1.4.1 Collaborative filtering recommender systems**"
   ]
  },
  {
   "cell_type": "markdown",
   "metadata": {},
   "source": [
    "### 1.4.2 Content-based recommender systems **"
   ]
  },
  {
   "cell_type": "markdown",
   "metadata": {},
   "source": [
    "### 1.4.3 Hybrid recommender systems **"
   ]
  },
  {
   "cell_type": "markdown",
   "metadata": {},
   "source": [
    "### 1.4.4 Context-aware recommender systems **"
   ]
  },
  {
   "cell_type": "markdown",
   "metadata": {},
   "source": [
    "# 2. Simple-Recommendation-Engine)"
   ]
  },
  {
   "cell_type": "markdown",
   "metadata": {},
   "source": [
    "# 3. Recommendation Engines)"
   ]
  },
  {
   "cell_type": "markdown",
   "metadata": {},
   "source": [
    "# 4. Data Mining & Recommendation Engines)"
   ]
  },
  {
   "cell_type": "markdown",
   "metadata": {},
   "source": [
    "# 5. Collaborative Filtering Recommendation Engines)"
   ]
  },
  {
   "cell_type": "markdown",
   "metadata": {},
   "source": [
    "# 6. Personalized Recommendation Engines"
   ]
  },
  {
   "cell_type": "markdown",
   "metadata": {},
   "source": [
    "# 7. Real-Time Recommendation Engines)"
   ]
  },
  {
   "cell_type": "markdown",
   "metadata": {},
   "source": [
    "# 8. Scalable Recommendation Engines)"
   ]
  },
  {
   "cell_type": "code",
   "execution_count": null,
   "metadata": {
    "collapsed": true
   },
   "outputs": [],
   "source": []
  }
 ],
 "metadata": {
  "anaconda-cloud": {},
  "kernelspec": {
   "display_name": "Python [default]",
   "language": "python",
   "name": "python2"
  },
  "language_info": {
   "codemirror_mode": {
    "name": "ipython",
    "version": 2
   },
   "file_extension": ".py",
   "mimetype": "text/x-python",
   "name": "python",
   "nbconvert_exporter": "python",
   "pygments_lexer": "ipython2",
   "version": "2.7.12"
  }
 },
 "nbformat": 4,
 "nbformat_minor": 1
}
