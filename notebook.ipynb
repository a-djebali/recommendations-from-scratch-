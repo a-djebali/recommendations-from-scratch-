{
 "cells": [
  {
   "cell_type": "markdown",
   "metadata": {},
   "source": [
    "# Table of Contents\n",
    "* [1. Introduction](#1.-Introduction)\n",
    "\t* [1.1 What is it?](#1.1-What-is-it?)\n",
    "\t* [1.2 Why recommender systems](#1.2-Why-recommender-systems)\n",
    "\t* [1.3 Big data driving the recommender systems](#1.3-Big-data-driving-the-recommender-systems)\n",
    "\t* [1.4 Types](#1.4-Types)\n",
    "\t\t* [1.4.1 Collaborative filtering recommender systems](#1.4.1-Collaborative-filtering-recommender-systems)\n",
    "\t\t* [1.4.2 Content-based recommender systems](#1.4.2-Content-based-recommender-systems)\n",
    "\t\t* [1.4.3 Hybrid recommender systems](#1.4.3-Hybrid-recommender-systems)\n",
    "\t\t* [1.4.4 Context-aware recommender systems](#1.4.4-Context-aware-recommender-systems)\n",
    "* [2. Simple-Recommendation-Engine](#2.-Simple-Recommendation-Engine)\n",
    "\t* [2.1 Building blocks of the recommendation engine](#2.1-Building-blocks-of-the-recommendation-engine)\n",
    "\t* [2.2 Loading & formatting](#2.2-Loading-&-formatting)\n",
    "* [3. Recommendation Engines](#3.-Recommendation-Engines)\n",
    "* [4. Data-Mining & Recommendation Engines](#4.-Data-Mining-&-Recommendation-Engines)\n",
    "* [5. Collaborative Filtering Recommendation Engines](#5.-Collaborative-Filtering-Recommendation-Engines)\n",
    "* [6. Personalized Recommendation Engines](#6.-Personalized-Recommendation-Engines)\n",
    "* [7. Real-Time Recommendation Engines](#7.-Real-Time-Recommendation-Engines)\n",
    "* [8. Scalable Recommendation Engines](#8.-Scalable-Recommendation-Engines)\n"
   ]
  },
  {
   "cell_type": "markdown",
   "metadata": {},
   "source": [
    "# 1. Introduction"
   ]
  },
  {
   "cell_type": "markdown",
   "metadata": {},
   "source": [
    "## 1.1 What is it?"
   ]
  },
  {
   "cell_type": "markdown",
   "metadata": {},
   "source": [
    "* Recommendation engines are powerful tools and techniques to analyze huge volumes of data to provide relevant suggestions based on data mining approaches, taking into consideration the available digital footprint of the user, such as:\n",
    "\n",
    "    * User behaviors, \n",
    "    * User-demographic information, \n",
    "    * Transaction details, \n",
    "    * Interaction logs, and information about a product, such as:\n",
    "    * Specifications, \n",
    "    * feedback from users, \n",
    "    * comparison with other products, and so on\n",
    "\n",
    "\n",
    "* In a nutshell and technical terms, a recommendation engine problem is to develop a math model or objective function that can predict how much a user will like an item.  \n",
    "\n",
    "    * _If U = {users}, I = {items} then F = Objective function and measures the usefulness of item I to user U, given by:_<br />\n",
    "    * _**F:UXI -> R**_<br />\n",
    "    * _Where R = {recommended items}_<br />\n",
    "    * _For each user u, we want to choose the item i that maximizes the objective function:_<br />\n",
    "![](imgs/1.png)\n",
    "\n",
    "\n",
    "* Companies are employing different recommendation strategies and that depends what kind of data they are tracking. So here is how they are using them:\n",
    "\n",
    "![](https://www.packtpub.com/graphics/9781785884856/graphics/image_01_003.jpg)"
   ]
  },
  {
   "cell_type": "markdown",
   "metadata": {},
   "source": [
    "## 1.2 Why recommender systems"
   ]
  },
  {
   "cell_type": "markdown",
   "metadata": {},
   "source": [
    "Given the complexity and challenges in building recommendation engines, a considerable amount of thought, skill, investment, and technology goes into building recommender systems. Are they worth such an investment? Let us look at some facts:\n",
    "* 2/3 of movies watched by Netflix customers are recommended movies\n",
    "* 38% of click-through rates on Google News are recommended links\n",
    "* 35% of sales at Amazon arise from recommended products\n",
    "* ChoiceStream claims that 28% of people would like to buy more music, if they find what they like"
   ]
  },
  {
   "cell_type": "markdown",
   "metadata": {},
   "source": [
    "## 1.3 Big data driving the recommender systems"
   ]
  },
  {
   "cell_type": "markdown",
   "metadata": {},
   "source": [
    "Without a doubt, big data is the driving force behind recommender systems. A good recommendation engine should be reliable, scalable, highly available, and be able to provide personalized recommendations, in real time, to the large user base it contains.\n",
    "\n",
    "So a typical recommendation system cannot do its job without sufficient data and big data supplies plenty of user data such as past purchases, browsing history, and feedback for the Recommendation systems to provide relevant and effective recommendations. In a nutshell, even the most advanced recommender systems cannot be effective without big data.\n",
    "\n",
    "The role of big data and improvements in technology, both on the software and hardware front, goes beyond just supplying massive data. It also provides meaningful, actionable data fast, and provides the necessary setup to quickly process the data in real time."
   ]
  },
  {
   "cell_type": "markdown",
   "metadata": {},
   "source": [
    "## 1.4 Types"
   ]
  },
  {
   "cell_type": "markdown",
   "metadata": {},
   "source": [
    "### 1.4.1 Collaborative filtering recommender systems"
   ]
  },
  {
   "cell_type": "markdown",
   "metadata": {},
   "source": [
    "### 1.4.2 Content-based recommender systems"
   ]
  },
  {
   "cell_type": "markdown",
   "metadata": {},
   "source": [
    "### 1.4.3 Hybrid recommender systems"
   ]
  },
  {
   "cell_type": "markdown",
   "metadata": {},
   "source": [
    "### 1.4.4 Context-aware recommender systems"
   ]
  },
  {
   "cell_type": "markdown",
   "metadata": {},
   "source": [
    "# 2. Simple-Recommendation-Engine"
   ]
  },
  {
   "cell_type": "markdown",
   "metadata": {},
   "source": [
    "## 2.1 Building blocks of the recommendation engine"
   ]
  },
  {
   "cell_type": "markdown",
   "metadata": {},
   "source": [
    "* The recommendation engine we are going to build is based on the collaborative filtering approach which based on the user's neighbourhood, as explained in the following figure:\n",
    "\n",
    "![collaborative filtering approach]()\n",
    "\n",
    "* And the blocks to build the engine are as follows\n",
    "    * Loading & formatting data \n",
    "    * Calculating similarities between users \n",
    "    * Predicting the unknown ratings for users \n",
    "    * Recommend items to users based on similarities between users\n",
    "\n",
    "![The steps]()"
   ]
  },
  {
   "cell_type": "markdown",
   "metadata": {},
   "source": [
    "## 2.2 Loading & formatting"
   ]
  },
  {
   "cell_type": "markdown",
   "metadata": {},
   "source": [
    "* The dataset we are going to use can be downloaded from [here](https://raw.githubusercontent.com/sureshgorakala/RecommenderSystems_R/master/movie_rating.csv)\n",
    "\n",
    "* It's a movie rating dataset containing users ratings from 1 to 5 \n",
    "* The data structured as comma-separated  \n",
    "* Our **goal** is to build a simple recommendation system \n",
    "* Our **objective** is to recommend unknown movies to users based on the ratings of similar users"
   ]
  },
  {
   "cell_type": "code",
   "execution_count": 2,
   "metadata": {},
   "outputs": [
    {
     "data": {
      "text/html": [
       "<div>\n",
       "<style>\n",
       "    .dataframe thead tr:only-child th {\n",
       "        text-align: right;\n",
       "    }\n",
       "\n",
       "    .dataframe thead th {\n",
       "        text-align: left;\n",
       "    }\n",
       "\n",
       "    .dataframe tbody tr th {\n",
       "        vertical-align: top;\n",
       "    }\n",
       "</style>\n",
       "<table border=\"1\" class=\"dataframe\">\n",
       "  <thead>\n",
       "    <tr style=\"text-align: right;\">\n",
       "      <th></th>\n",
       "      <th>critic</th>\n",
       "      <th>title</th>\n",
       "      <th>rating</th>\n",
       "    </tr>\n",
       "  </thead>\n",
       "  <tbody>\n",
       "    <tr>\n",
       "      <th>1</th>\n",
       "      <td>Jack Matthews</td>\n",
       "      <td>Lady in the Water</td>\n",
       "      <td>3.0</td>\n",
       "    </tr>\n",
       "    <tr>\n",
       "      <th>2</th>\n",
       "      <td>Jack Matthews</td>\n",
       "      <td>Snakes on a Plane</td>\n",
       "      <td>4.0</td>\n",
       "    </tr>\n",
       "    <tr>\n",
       "      <th>3</th>\n",
       "      <td>Jack Matthews</td>\n",
       "      <td>You Me and Dupree</td>\n",
       "      <td>3.5</td>\n",
       "    </tr>\n",
       "    <tr>\n",
       "      <th>4</th>\n",
       "      <td>Jack Matthews</td>\n",
       "      <td>Superman Returns</td>\n",
       "      <td>5.0</td>\n",
       "    </tr>\n",
       "    <tr>\n",
       "      <th>5</th>\n",
       "      <td>Jack Matthews</td>\n",
       "      <td>The Night Listener</td>\n",
       "      <td>3.0</td>\n",
       "    </tr>\n",
       "    <tr>\n",
       "      <th>6</th>\n",
       "      <td>Mick LaSalle</td>\n",
       "      <td>Lady in the Water</td>\n",
       "      <td>3.0</td>\n",
       "    </tr>\n",
       "    <tr>\n",
       "      <th>7</th>\n",
       "      <td>Mick LaSalle</td>\n",
       "      <td>Snakes on a Plane</td>\n",
       "      <td>4.0</td>\n",
       "    </tr>\n",
       "    <tr>\n",
       "      <th>8</th>\n",
       "      <td>Mick LaSalle</td>\n",
       "      <td>Just My Luck</td>\n",
       "      <td>2.0</td>\n",
       "    </tr>\n",
       "    <tr>\n",
       "      <th>9</th>\n",
       "      <td>Mick LaSalle</td>\n",
       "      <td>Superman Returns</td>\n",
       "      <td>3.0</td>\n",
       "    </tr>\n",
       "    <tr>\n",
       "      <th>10</th>\n",
       "      <td>Mick LaSalle</td>\n",
       "      <td>You Me and Dupree</td>\n",
       "      <td>2.0</td>\n",
       "    </tr>\n",
       "    <tr>\n",
       "      <th>11</th>\n",
       "      <td>Mick LaSalle</td>\n",
       "      <td>The Night Listener</td>\n",
       "      <td>3.0</td>\n",
       "    </tr>\n",
       "    <tr>\n",
       "      <th>12</th>\n",
       "      <td>Claudia Puig</td>\n",
       "      <td>Snakes on a Plane</td>\n",
       "      <td>3.5</td>\n",
       "    </tr>\n",
       "    <tr>\n",
       "      <th>13</th>\n",
       "      <td>Claudia Puig</td>\n",
       "      <td>Just My Luck</td>\n",
       "      <td>3.0</td>\n",
       "    </tr>\n",
       "    <tr>\n",
       "      <th>14</th>\n",
       "      <td>Claudia Puig</td>\n",
       "      <td>You Me and Dupree</td>\n",
       "      <td>2.5</td>\n",
       "    </tr>\n",
       "    <tr>\n",
       "      <th>15</th>\n",
       "      <td>Claudia Puig</td>\n",
       "      <td>Superman Returns</td>\n",
       "      <td>4.0</td>\n",
       "    </tr>\n",
       "    <tr>\n",
       "      <th>16</th>\n",
       "      <td>Claudia Puig</td>\n",
       "      <td>The Night Listener</td>\n",
       "      <td>4.5</td>\n",
       "    </tr>\n",
       "    <tr>\n",
       "      <th>17</th>\n",
       "      <td>Lisa Rose</td>\n",
       "      <td>Lady in the Water</td>\n",
       "      <td>2.5</td>\n",
       "    </tr>\n",
       "    <tr>\n",
       "      <th>18</th>\n",
       "      <td>Lisa Rose</td>\n",
       "      <td>Snakes on a Plane</td>\n",
       "      <td>3.5</td>\n",
       "    </tr>\n",
       "    <tr>\n",
       "      <th>19</th>\n",
       "      <td>Lisa Rose</td>\n",
       "      <td>Just My Luck</td>\n",
       "      <td>3.0</td>\n",
       "    </tr>\n",
       "    <tr>\n",
       "      <th>20</th>\n",
       "      <td>Lisa Rose</td>\n",
       "      <td>Superman Returns</td>\n",
       "      <td>3.5</td>\n",
       "    </tr>\n",
       "    <tr>\n",
       "      <th>21</th>\n",
       "      <td>Lisa Rose</td>\n",
       "      <td>The Night Listener</td>\n",
       "      <td>3.0</td>\n",
       "    </tr>\n",
       "    <tr>\n",
       "      <th>22</th>\n",
       "      <td>Lisa Rose</td>\n",
       "      <td>You Me and Dupree</td>\n",
       "      <td>2.5</td>\n",
       "    </tr>\n",
       "    <tr>\n",
       "      <th>23</th>\n",
       "      <td>Toby</td>\n",
       "      <td>Snakes on a Plane</td>\n",
       "      <td>4.5</td>\n",
       "    </tr>\n",
       "    <tr>\n",
       "      <th>24</th>\n",
       "      <td>Toby</td>\n",
       "      <td>Superman Returns</td>\n",
       "      <td>4.0</td>\n",
       "    </tr>\n",
       "    <tr>\n",
       "      <th>25</th>\n",
       "      <td>Toby</td>\n",
       "      <td>You Me and Dupree</td>\n",
       "      <td>1.0</td>\n",
       "    </tr>\n",
       "    <tr>\n",
       "      <th>26</th>\n",
       "      <td>Gene Seymour</td>\n",
       "      <td>Lady in the Water</td>\n",
       "      <td>3.0</td>\n",
       "    </tr>\n",
       "    <tr>\n",
       "      <th>27</th>\n",
       "      <td>Gene Seymour</td>\n",
       "      <td>Snakes on a Plane</td>\n",
       "      <td>3.5</td>\n",
       "    </tr>\n",
       "    <tr>\n",
       "      <th>28</th>\n",
       "      <td>Gene Seymour</td>\n",
       "      <td>Just My Luck</td>\n",
       "      <td>1.5</td>\n",
       "    </tr>\n",
       "    <tr>\n",
       "      <th>29</th>\n",
       "      <td>Gene Seymour</td>\n",
       "      <td>Superman Returns</td>\n",
       "      <td>5.0</td>\n",
       "    </tr>\n",
       "    <tr>\n",
       "      <th>30</th>\n",
       "      <td>Gene Seymour</td>\n",
       "      <td>You Me and Dupree</td>\n",
       "      <td>3.5</td>\n",
       "    </tr>\n",
       "    <tr>\n",
       "      <th>31</th>\n",
       "      <td>Gene Seymour</td>\n",
       "      <td>The Night Listener</td>\n",
       "      <td>3.0</td>\n",
       "    </tr>\n",
       "  </tbody>\n",
       "</table>\n",
       "</div>"
      ],
      "text/plain": [
       "           critic               title  rating\n",
       "1   Jack Matthews   Lady in the Water     3.0\n",
       "2   Jack Matthews   Snakes on a Plane     4.0\n",
       "3   Jack Matthews   You Me and Dupree     3.5\n",
       "4   Jack Matthews    Superman Returns     5.0\n",
       "5   Jack Matthews  The Night Listener     3.0\n",
       "6    Mick LaSalle   Lady in the Water     3.0\n",
       "7    Mick LaSalle   Snakes on a Plane     4.0\n",
       "8    Mick LaSalle        Just My Luck     2.0\n",
       "9    Mick LaSalle    Superman Returns     3.0\n",
       "10   Mick LaSalle   You Me and Dupree     2.0\n",
       "11   Mick LaSalle  The Night Listener     3.0\n",
       "12   Claudia Puig   Snakes on a Plane     3.5\n",
       "13   Claudia Puig        Just My Luck     3.0\n",
       "14   Claudia Puig   You Me and Dupree     2.5\n",
       "15   Claudia Puig    Superman Returns     4.0\n",
       "16   Claudia Puig  The Night Listener     4.5\n",
       "17      Lisa Rose   Lady in the Water     2.5\n",
       "18      Lisa Rose   Snakes on a Plane     3.5\n",
       "19      Lisa Rose        Just My Luck     3.0\n",
       "20      Lisa Rose    Superman Returns     3.5\n",
       "21      Lisa Rose  The Night Listener     3.0\n",
       "22      Lisa Rose   You Me and Dupree     2.5\n",
       "23           Toby   Snakes on a Plane     4.5\n",
       "24           Toby    Superman Returns     4.0\n",
       "25           Toby   You Me and Dupree     1.0\n",
       "26   Gene Seymour   Lady in the Water     3.0\n",
       "27   Gene Seymour   Snakes on a Plane     3.5\n",
       "28   Gene Seymour        Just My Luck     1.5\n",
       "29   Gene Seymour    Superman Returns     5.0\n",
       "30   Gene Seymour   You Me and Dupree     3.5\n",
       "31   Gene Seymour  The Night Listener     3.0"
      ]
     },
     "execution_count": 2,
     "metadata": {},
     "output_type": "execute_result"
    }
   ],
   "source": [
    "# Load R (rpy2)\n",
    "%load_ext rpy2.ipython\n",
    "# Loading the data from the CSV file \n",
    "%R ratings = read.csv(\"../../datasets/movie_rating.csv\")"
   ]
  },
  {
   "cell_type": "code",
   "execution_count": 3,
   "metadata": {},
   "outputs": [
    {
     "data": {
      "text/html": [
       "<div>\n",
       "<style>\n",
       "    .dataframe thead tr:only-child th {\n",
       "        text-align: right;\n",
       "    }\n",
       "\n",
       "    .dataframe thead th {\n",
       "        text-align: left;\n",
       "    }\n",
       "\n",
       "    .dataframe tbody tr th {\n",
       "        vertical-align: top;\n",
       "    }\n",
       "</style>\n",
       "<table border=\"1\" class=\"dataframe\">\n",
       "  <thead>\n",
       "    <tr style=\"text-align: right;\">\n",
       "      <th></th>\n",
       "      <th>critic</th>\n",
       "      <th>title</th>\n",
       "      <th>rating</th>\n",
       "    </tr>\n",
       "  </thead>\n",
       "  <tbody>\n",
       "    <tr>\n",
       "      <th>1</th>\n",
       "      <td>Jack Matthews</td>\n",
       "      <td>Lady in the Water</td>\n",
       "      <td>3.0</td>\n",
       "    </tr>\n",
       "    <tr>\n",
       "      <th>2</th>\n",
       "      <td>Jack Matthews</td>\n",
       "      <td>Snakes on a Plane</td>\n",
       "      <td>4.0</td>\n",
       "    </tr>\n",
       "    <tr>\n",
       "      <th>3</th>\n",
       "      <td>Jack Matthews</td>\n",
       "      <td>You Me and Dupree</td>\n",
       "      <td>3.5</td>\n",
       "    </tr>\n",
       "    <tr>\n",
       "      <th>4</th>\n",
       "      <td>Jack Matthews</td>\n",
       "      <td>Superman Returns</td>\n",
       "      <td>5.0</td>\n",
       "    </tr>\n",
       "    <tr>\n",
       "      <th>5</th>\n",
       "      <td>Jack Matthews</td>\n",
       "      <td>The Night Listener</td>\n",
       "      <td>3.0</td>\n",
       "    </tr>\n",
       "    <tr>\n",
       "      <th>6</th>\n",
       "      <td>Mick LaSalle</td>\n",
       "      <td>Lady in the Water</td>\n",
       "      <td>3.0</td>\n",
       "    </tr>\n",
       "  </tbody>\n",
       "</table>\n",
       "</div>"
      ],
      "text/plain": [
       "          critic               title  rating\n",
       "1  Jack Matthews   Lady in the Water     3.0\n",
       "2  Jack Matthews   Snakes on a Plane     4.0\n",
       "3  Jack Matthews   You Me and Dupree     3.5\n",
       "4  Jack Matthews    Superman Returns     5.0\n",
       "5  Jack Matthews  The Night Listener     3.0\n",
       "6   Mick LaSalle   Lady in the Water     3.0"
      ]
     },
     "execution_count": 3,
     "metadata": {},
     "output_type": "execute_result"
    }
   ],
   "source": [
    "# Ratings sample (1st six rows)\n",
    "%R head(ratings)"
   ]
  },
  {
   "cell_type": "code",
   "execution_count": 5,
   "metadata": {},
   "outputs": [
    {
     "data": {
      "text/plain": [
       "array([31,  3], dtype=int32)"
      ]
     },
     "execution_count": 5,
     "metadata": {},
     "output_type": "execute_result"
    }
   ],
   "source": [
    "# The dimensions of the dataset \n",
    "%R dim(ratings)"
   ]
  },
  {
   "cell_type": "code",
   "execution_count": 7,
   "metadata": {},
   "outputs": [
    {
     "data": {
      "text/plain": [
       "'data.frame':\t31 obs. of  3 variables:\n",
       " $ critic: Factor w/ 6 levels \"Claudia Puig\",..: 3 3 3 3 3 5 5 5 5 5 ...\n",
       " $ title : Factor w/ 6 levels \"Just My Luck\",..: 2 3 6 4 5 2 3 1 4 6 ...\n",
       " $ rating: num  3 4 3.5 5 3 3 4 2 3 2 ...\n"
      ]
     },
     "metadata": {},
     "output_type": "display_data"
    }
   ],
   "source": [
    "# The structure of the data \n",
    "%R str(ratings)"
   ]
  },
  {
   "cell_type": "markdown",
   "metadata": {},
   "source": [
    "* As you see the dataset contains 31 observations and three variables. In addition to see the levels of the attributes of a variable we use levels()."
   ]
  },
  {
   "cell_type": "code",
   "execution_count": 10,
   "metadata": {},
   "outputs": [
    {
     "data": {
      "text/plain": [
       "array(['Claudia Puig', 'Gene Seymour', 'Jack Matthews', 'Lisa Rose',\n",
       "       'Mick LaSalle', 'Toby'], \n",
       "      dtype='|S13')"
      ]
     },
     "execution_count": 10,
     "metadata": {},
     "output_type": "execute_result"
    }
   ],
   "source": [
    "# Levels of the attributes\n",
    "%R levels(ratings$critic)"
   ]
  },
  {
   "cell_type": "code",
   "execution_count": 11,
   "metadata": {},
   "outputs": [
    {
     "data": {
      "text/plain": [
       "array(['Just My Luck', 'Lady in the Water', 'Snakes on a Plane',\n",
       "       'Superman Returns', 'The Night Listener', 'You Me and Dupree'], \n",
       "      dtype='|S18')"
      ]
     },
     "execution_count": 11,
     "metadata": {},
     "output_type": "execute_result"
    }
   ],
   "source": [
    "%R levels(ratings$title)"
   ]
  },
  {
   "cell_type": "code",
   "execution_count": 12,
   "metadata": {
    "collapsed": true
   },
   "outputs": [],
   "source": [
    "%R levels(ratings$rating)"
   ]
  },
  {
   "cell_type": "markdown",
   "metadata": {},
   "source": [
    "* In order to build the recommender we have to create a matrix where rows contain users, columns contain items, and the cells contain ratings given by users to the items.\n",
    "\n",
    "* The next step is to arrange the data in a format that is useful to build the recommendation engine. The current data contains a row containing critic, title, and rating. This has to be converted to matrix format containing critics as rows, title as columns, and ratings as the cell values"
   ]
  },
  {
   "cell_type": "code",
   "execution_count": 14,
   "metadata": {},
   "outputs": [
    {
     "name": "stdout",
     "output_type": "stream",
     "text": [
      "\n",
      "Error in as.data.frame(acast(ratings, title - critic, value.var = \"rating\")) : \n",
      "  could not find function \"acast\"\n"
     ]
    }
   ],
   "source": [
    "# Data processed and formatted \n",
    "%R movie_ratings = as.data.frame(acast(ratings,title-critic,value.var=\"rating\"))"
   ]
  },
  {
   "cell_type": "markdown",
   "metadata": {},
   "source": [
    "**... to be continued :) **"
   ]
  },
  {
   "cell_type": "markdown",
   "metadata": {},
   "source": [
    "# 3. Recommendation Engines"
   ]
  },
  {
   "cell_type": "markdown",
   "metadata": {},
   "source": [
    "# 4. Data-Mining & Recommendation Engines"
   ]
  },
  {
   "cell_type": "markdown",
   "metadata": {},
   "source": [
    "# 5. Collaborative Filtering Recommendation Engines"
   ]
  },
  {
   "cell_type": "markdown",
   "metadata": {},
   "source": [
    "# 6. Personalized Recommendation Engines"
   ]
  },
  {
   "cell_type": "markdown",
   "metadata": {},
   "source": [
    "# 7. Real-Time Recommendation Engines"
   ]
  },
  {
   "cell_type": "markdown",
   "metadata": {},
   "source": [
    "# 8. Scalable Recommendation Engines"
   ]
  },
  {
   "cell_type": "code",
   "execution_count": null,
   "metadata": {
    "collapsed": true
   },
   "outputs": [],
   "source": []
  }
 ],
 "metadata": {
  "anaconda-cloud": {},
  "kernelspec": {
   "display_name": "Python [default]",
   "language": "python",
   "name": "python2"
  },
  "language_info": {
   "codemirror_mode": {
    "name": "ipython",
    "version": 2
   },
   "file_extension": ".py",
   "mimetype": "text/x-python",
   "name": "python",
   "nbconvert_exporter": "python",
   "pygments_lexer": "ipython2",
   "version": "2.7.12"
  }
 },
 "nbformat": 4,
 "nbformat_minor": 1
}
