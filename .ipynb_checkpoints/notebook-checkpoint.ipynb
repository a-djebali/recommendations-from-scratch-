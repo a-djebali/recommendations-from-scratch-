{
 "cells": [
  {
   "cell_type": "markdown",
   "metadata": {},
   "source": [
    "# Table of Contents\n",
    "* [1. Introduction](#1.-Introduction)\n",
    "\t* [1.1 What is it?](#1.1-What-is-it?)\n",
    "\t\t* [1.1.1 Blag](#1.1.1-Blag)\n",
    "\t\t\t* [1.1.1.1 Blga](#1.1.1.1-Blga)\n",
    "* [2. Simple Recommendation Engine](#2.-Simple-Recommendation-Engine)"
   ]
  },
  {
   "cell_type": "markdown",
   "metadata": {},
   "source": [
    "# 1. Introduction"
   ]
  },
  {
   "cell_type": "markdown",
   "metadata": {},
   "source": [
    "## 1.1 What is it?"
   ]
  },
  {
   "cell_type": "markdown",
   "metadata": {},
   "source": [
    "* A recommendation engine problem is to develop a math model or objective function that can predict how much a user will like an item  \n",
    "\n",
    "* A better recommender system is directed more toward personalized recommendations by taking into consideration the available digital footprint of the user, such as:\n",
    "\n",
    "    * user behaviors \n",
    "    * user-demographic information, \n",
    "    * transaction details, \n",
    "    * interaction logs, \n",
    "    \n",
    "And information about a product, such as:\n",
    "    * specifications, \n",
    "    * feedback from users, \n",
    "    * comparison with other products, and so on, before\n",
    "making recommendations:\n",
    "\n",
    "* Here is how recommendation engines are employed by some companies:\n",
    "\n",
    "![](https://www.packtpub.com/graphics/9781785884856/graphics/image_01_003.jpg)\n",
    "\n",
    "* **Need for recommender systems**\n",
    " \n",
    "Given the complexity and challenges in building recommendation engines, a considerable amount of thought, skill, investment, and technology goes into building recommender systems. Are they worth such an investment? Let us look at some facts:\n",
    "    * 2/3 of movies watched by Netflix customers are recommended movies\n",
    "    * 38% of click-through rates on Google News are recommended links\n",
    "    * 35% of sales at Amazon arise from recommended products\n",
    "    * ChoiceStream claims that 28% of people would like to buy more music, if they find what they like\n",
    "\n",
    "* **Big data driving the recommender systems** - page 10\n",
    "    \n",
    "* **Types**\n",
    "\n",
    "**1) Collaborative filtering recommender systems**\n",
    "**2) Content-based recommender systems **\n",
    "**3) Hybrid recommender systems **\n",
    "**4) Context-aware recommender systems **"
   ]
  },
  {
   "cell_type": "markdown",
   "metadata": {},
   "source": [
    "# 2. Simple Recommendation Engine"
   ]
  },
  {
   "cell_type": "markdown",
   "metadata": {},
   "source": [
    "* **Building a recommendation engine using R**\n",
    "\n",
    "* Based on the collaborative filtering  \n",
    "\n",
    "* The steps to build our basic recommendation engine are as follows:\n",
    "    * Loading and formatting data.\n",
    "    * Calculating similarity between users.\n",
    "    * Predicting the unknown ratings for users.\n",
    "    * Recommending items to users based on user-similarity score."
   ]
  },
  {
   "cell_type": "markdown",
   "metadata": {
    "format": "column"
   },
   "source": [
    "qjjzdz"
   ]
  },
  {
   "cell_type": "code",
   "execution_count": null,
   "metadata": {
    "collapsed": true
   },
   "outputs": [],
   "source": []
  }
 ],
 "metadata": {
  "anaconda-cloud": {},
  "kernelspec": {
   "display_name": "Python [default]",
   "language": "python",
   "name": "python2"
  },
  "language_info": {
   "codemirror_mode": {
    "name": "ipython",
    "version": 2
   },
   "file_extension": ".py",
   "mimetype": "text/x-python",
   "name": "python",
   "nbconvert_exporter": "python",
   "pygments_lexer": "ipython2",
   "version": "2.7.12"
  }
 },
 "nbformat": 4,
 "nbformat_minor": 1
}
